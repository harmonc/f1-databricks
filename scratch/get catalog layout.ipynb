{
 "cells": [
  {
   "cell_type": "code",
   "execution_count": 0,
   "metadata": {
    "application/vnd.databricks.v1+cell": {
     "cellMetadata": {
      "byteLimit": 2048000,
      "rowLimit": 10000
     },
     "inputWidgets": {},
     "nuid": "a7b2b172-8ecf-4e13-a062-2ff65bf46064",
     "showTitle": false,
     "tableResultSettingsMap": {},
     "title": ""
    }
   },
   "outputs": [],
   "source": [
    "spark.sql(\"USE CATALOG f1\")\n",
    "databases = spark.catalog.listDatabases()\n",
    "print(f\"Catalog: f1\")\n",
    "for db in databases:\n",
    "    if db.name == \"bronze\":\n",
    "        print(f\"-Schema: {db.name}\")\n",
    "        tables = spark.catalog.listTables(db.name)\n",
    "        for table in tables:\n",
    "            print(f\"  -Table: {table.name}\")"
   ]
  }
 ],
 "metadata": {
  "application/vnd.databricks.v1+notebook": {
   "computePreferences": null,
   "dashboards": [],
   "environmentMetadata": {
    "base_environment": "",
    "environment_version": "4"
   },
   "inputWidgetPreferences": null,
   "language": "python",
   "notebookMetadata": {
    "pythonIndentUnit": 4
   },
   "notebookName": "get catalog layout",
   "widgets": {}
  },
  "language_info": {
   "name": "python"
  }
 },
 "nbformat": 4,
 "nbformat_minor": 0
}
